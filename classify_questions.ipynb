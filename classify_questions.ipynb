{
 "cells": [
  {
   "cell_type": "markdown",
   "id": "e3969673",
   "metadata": {},
   "source": [
    "## ❓ Question Classification: Context Needed or Not\n",
    "\n",
    "This notebook presents a **question classification task**: given a question, the goal is to determine whether it **requires additional context** or can be understood on its own.\n",
    "\n",
    "### 📂 Project Overview\n",
    "- **Dataset**: `labeled_data.csv` – custom labeled dataset created for this task.  \n",
    "- **Main Model**: [allegro/herbert-base-cased](https://huggingface.co/allegro/herbert-base-cased) – a Polish BERT-based model fine-tuned for this classification problem.  \n",
    "- **Saved Model**: trained weights are stored in `./model_classification/`.  \n",
    "- **Other Models**: For comparison, additional classical ML models are implemented in `classify_question_other_model.ipynb`:  \n",
    "  - Naive Bayes (`MultinomialNB`)  \n",
    "  - Logistic Regression (`LogisticRegression`)  \n",
    "  - Linear Support Vector Classifier (`LinearSVC`)  \n",
    "  - Stochastic Gradient Descent Classifier (`SGDClassifier`)  \n",
    "\n",
    "### 🎯 Goal\n",
    "- Train and evaluate different models for **binary classification** (context needed vs. not needed).  \n",
    "- Compare transformer-based (HerBERT) and classical ML approaches.  \n",
    "- Analyze performance trade-offs and insights from both methods.  "
   ]
  },
  {
   "cell_type": "code",
   "execution_count": 14,
   "id": "de552fcd",
   "metadata": {},
   "outputs": [],
   "source": [
    "import pandas as pd\n",
    "import torch\n",
    "from datasets import Dataset\n",
    "from transformers import AutoTokenizer, AutoModelForSequenceClassification, Trainer, TrainingArguments\n",
    "from sklearn.metrics import accuracy_score, precision_recall_fscore_support"
   ]
  },
  {
   "cell_type": "markdown",
   "id": "6bf17716",
   "metadata": {},
   "source": [
    "Loading data"
   ]
  },
  {
   "cell_type": "code",
   "execution_count": 15,
   "id": "5043750f",
   "metadata": {},
   "outputs": [],
   "source": [
    "df = pd.read_csv(\"labeled_data.csv\", encoding=\"utf-8\", sep=\";\", names=[\"text\", \"label\"])\n",
    "label_mapping = {\"bez kontekstu\": 0, \"kontekst\": 1}\n",
    "id_mapping = {0: \"bez kontekstu\", 1: \"kontekst\"}\n",
    "\n",
    "df[\"label\"] = df[\"label\"].map(label_mapping).astype(int)"
   ]
  },
  {
   "cell_type": "markdown",
   "id": "2fb2380f",
   "metadata": {},
   "source": [
    "Preparing the model"
   ]
  },
  {
   "cell_type": "code",
   "execution_count": null,
   "id": "368465dd",
   "metadata": {},
   "outputs": [
    {
     "name": "stderr",
     "output_type": "stream",
     "text": [
      "Map: 100%|██████████| 1000/1000 [00:00<00:00, 14424.12 examples/s]\n"
     ]
    }
   ],
   "source": [
    "model_name = \"allegro/herbert-base-cased\"\n",
    "tokenizer = AutoTokenizer.from_pretrained(model_name)\n",
    "\n",
    "def tokenize_function(examples):\n",
    "    return tokenizer(examples[\"text\"], padding=\"max_length\", truncation=True, max_length=128)\n",
    "\n",
    "dataset = Dataset.from_pandas(df)\n",
    "dataset = dataset.map(tokenize_function, batched=True)\n",
    "dataset = dataset.train_test_split(test_size=0.2, seed=42)"
   ]
  },
  {
   "cell_type": "markdown",
   "id": "0243b949",
   "metadata": {},
   "source": [
    "Training"
   ]
  },
  {
   "cell_type": "code",
   "execution_count": 17,
   "id": "b8c03809",
   "metadata": {},
   "outputs": [],
   "source": [
    "def compute_metrics(p):\n",
    "    preds = p.predictions.argmax(-1)\n",
    "    labels = p.label_ids\n",
    "    precision, recall, f1, _ = precision_recall_fscore_support(labels, preds, average='weighted')\n",
    "    acc = accuracy_score(labels, preds)\n",
    "    return {\n",
    "        'accuracy': acc,\n",
    "        'f1': f1,\n",
    "        'precision': precision,\n",
    "        'recall': recall\n",
    "    }"
   ]
  },
  {
   "cell_type": "code",
   "execution_count": 18,
   "id": "81a76a87",
   "metadata": {},
   "outputs": [
    {
     "name": "stderr",
     "output_type": "stream",
     "text": []
    },
    {
     "data": {
      "text/html": [
       "\n",
       "    <div>\n",
       "      \n",
       "      <progress value='400' max='400' style='width:300px; height:20px; vertical-align: middle;'></progress>\n",
       "      [400/400 14:57, Epoch 4/4]\n",
       "    </div>\n",
       "    <table border=\"1\" class=\"dataframe\">\n",
       "  <thead>\n",
       " <tr style=\"text-align: left;\">\n",
       "      <th>Step</th>\n",
       "      <th>Training Loss</th>\n",
       "    </tr>\n",
       "  </thead>\n",
       "  <tbody>\n",
       "  </tbody>\n",
       "</table><p>"
      ],
      "text/plain": [
       "<IPython.core.display.HTML object>"
      ]
     },
     "metadata": {},
     "output_type": "display_data"
    },
    {
     "name": "stderr",
     "output_type": "stream",
     "text": []
    },
    {
     "data": {
      "text/plain": [
       "TrainOutput(global_step=400, training_loss=0.3437187194824219, metrics={'train_runtime': 900.1214, 'train_samples_per_second': 3.555, 'train_steps_per_second': 0.444, 'total_flos': 210488844288000.0, 'train_loss': 0.3437187194824219, 'epoch': 4.0})"
      ]
     },
     "execution_count": 18,
     "metadata": {},
     "output_type": "execute_result"
    }
   ],
   "source": [
    "model = AutoModelForSequenceClassification.from_pretrained(model_name, num_labels=len(label_mapping))\n",
    "device = torch.device(\"cuda\" if torch.cuda.is_available() else \"cpu\")\n",
    "model.to(device)\n",
    "\n",
    "training_args = TrainingArguments(\n",
    "    output_dir=\"./results\",\n",
    "    save_strategy=\"epoch\",\n",
    "    learning_rate=2e-5,\n",
    "    per_device_train_batch_size=8,\n",
    "    num_train_epochs=4,\n",
    "    weight_decay=0.01,\n",
    "\n",
    ")\n",
    "\n",
    "trainer = Trainer(\n",
    "    model=model,\n",
    "    args=training_args,\n",
    "    train_dataset=dataset[\"train\"],\n",
    "    eval_dataset=dataset[\"test\"],\n",
    "    tokenizer=tokenizer,\n",
    "    compute_metrics=compute_metrics\n",
    ")\n",
    "\n",
    "trainer.train()\n"
   ]
  },
  {
   "cell_type": "code",
   "execution_count": 23,
   "id": "c3c596ae",
   "metadata": {},
   "outputs": [
    {
     "data": {
      "text/plain": [
       "('./model_classification\\\\tokenizer_config.json',\n",
       " './model_classification\\\\special_tokens_map.json',\n",
       " './model_classification\\\\vocab.json',\n",
       " './model_classification\\\\merges.txt',\n",
       " './model_classification\\\\added_tokens.json',\n",
       " './model_classification\\\\tokenizer.json')"
      ]
     },
     "execution_count": 23,
     "metadata": {},
     "output_type": "execute_result"
    }
   ],
   "source": [
    "trainer.save_model(\"./model_classification\")\n",
    "tokenizer.save_pretrained(\"./model_classification\")"
   ]
  },
  {
   "cell_type": "markdown",
   "id": "04bb17c8",
   "metadata": {},
   "source": [
    "Model metrics"
   ]
  },
  {
   "cell_type": "code",
   "execution_count": 20,
   "id": "6f3b014b",
   "metadata": {},
   "outputs": [
    {
     "name": "stderr",
     "output_type": "stream",
     "text": []
    },
    {
     "data": {
      "text/html": [
       "\n",
       "    <div>\n",
       "      \n",
       "      <progress value='25' max='25' style='width:300px; height:20px; vertical-align: middle;'></progress>\n",
       "      [25/25 00:10]\n",
       "    </div>\n",
       "    "
      ],
      "text/plain": [
       "<IPython.core.display.HTML object>"
      ]
     },
     "metadata": {},
     "output_type": "display_data"
    },
    {
     "name": "stdout",
     "output_type": "stream",
     "text": [
      "{'eval_loss': 0.6084314584732056, 'eval_accuracy': 0.865, 'eval_f1': 0.86225411640398, 'eval_precision': 0.8635590725064409, 'eval_recall': 0.865, 'eval_runtime': 10.6526, 'eval_samples_per_second': 18.775, 'eval_steps_per_second': 2.347, 'epoch': 4.0}\n"
     ]
    }
   ],
   "source": [
    "metrics = trainer.evaluate(eval_dataset=dataset[\"test\"])\n",
    "print(metrics)"
   ]
  },
  {
   "cell_type": "code",
   "execution_count": 21,
   "id": "0885e188",
   "metadata": {},
   "outputs": [],
   "source": [
    "def classify_question(question):\n",
    "    inputs = tokenizer(question, padding=\"max_length\", truncation=True, max_length=128, return_tensors=\"pt\")\n",
    "    inputs = {k: v.to(model.device) for k, v in inputs.items()}\n",
    "\n",
    "    with torch.no_grad():\n",
    "        output = model(**inputs)\n",
    "        \n",
    "    probs = torch.nn.functional.softmax(output.logits, dim=-1)\n",
    "    labels_pred = torch.argmax(probs)\n",
    "    confidence = torch.max(probs)\n",
    "\n",
    "    return id_mapping[labels_pred.item()], confidence.item()"
   ]
  },
  {
   "cell_type": "markdown",
   "id": "153ab4cf",
   "metadata": {},
   "source": [
    "Example question classifying"
   ]
  },
  {
   "cell_type": "code",
   "execution_count": null,
   "id": "7da9015f",
   "metadata": {},
   "outputs": [
    {
     "name": "stdout",
     "output_type": "stream",
     "text": [
      "kontekst (Pewność: 99.27%)\n"
     ]
    }
   ],
   "source": [
    "question = \"Czy ona zakwalifikuje się do turnieju?\"\n",
    "label, confidence = classify_question(question)\n",
    "confidence = confidence * 100\n",
    "print(f\"{label} (Pewność: {confidence:.2f}%)\")"
   ]
  }
 ],
 "metadata": {
  "kernelspec": {
   "display_name": "Python 3",
   "language": "python",
   "name": "python3"
  },
  "language_info": {
   "codemirror_mode": {
    "name": "ipython",
    "version": 3
   },
   "file_extension": ".py",
   "mimetype": "text/x-python",
   "name": "python",
   "nbconvert_exporter": "python",
   "pygments_lexer": "ipython3",
   "version": "3.13.2"
  }
 },
 "nbformat": 4,
 "nbformat_minor": 5
}
